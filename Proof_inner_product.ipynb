{
  "nbformat": 4,
  "nbformat_minor": 0,
  "metadata": {
    "colab": {
      "name": "Proof-inner-product.ipynb",
      "provenance": [],
      "authorship_tag": "ABX9TyP0NC/r46yI4VOOS6KOOd0x",
      "include_colab_link": true
    },
    "kernelspec": {
      "name": "python3",
      "display_name": "Python 3"
    },
    "language_info": {
      "name": "python"
    }
  },
  "cells": [
    {
      "cell_type": "markdown",
      "metadata": {
        "id": "view-in-github",
        "colab_type": "text"
      },
      "source": [
        "<a href=\"https://colab.research.google.com/github/thala321/some-math/blob/main/Proof_inner_product.ipynb\" target=\"_parent\"><img src=\"https://colab.research.google.com/assets/colab-badge.svg\" alt=\"Open In Colab\"/></a>"
      ]
    },
    {
      "cell_type": "markdown",
      "metadata": {
        "id": "li-oNcx1vKzf"
      },
      "source": [
        "Let $ \\vec a = (x_1, y_1) = (a\\cos\\alpha, a\\sin\\alpha)$\n",
        "\n",
        "Let $ \\vec b = (x_2, y_2) = (b\\cos\\beta, b\\sin\\beta)$\n",
        "\n",
        "Then $ \\theta = |\\beta - \\alpha| $\n",
        "\n",
        "By definition \n",
        "\n",
        "$\\vec a . \\vec b = x_1x_2 + y_1y_2$\n",
        "    \n",
        "$ = ab(\\cos\\alpha \\cos\\beta + \\sin\\alpha \\sin\\beta)$\n",
        "\n",
        "$ = ab(\\cos(\\beta - \\alpha) $\n",
        "    \n",
        "$ = ab(\\cos(\\theta))$"
      ]
    },
    {
      "cell_type": "markdown",
      "metadata": {
        "id": "m9WXRQtbvWFD"
      },
      "source": [
        ""
      ]
    }
  ]
}